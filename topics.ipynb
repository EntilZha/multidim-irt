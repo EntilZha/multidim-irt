{
 "cells": [
  {
   "cell_type": "code",
   "execution_count": null,
   "metadata": {},
   "outputs": [],
   "source": [
    "from multidim.dynaboard_datasets import Review"
   ]
  },
  {
   "cell_type": "code",
   "execution_count": null,
   "metadata": {},
   "outputs": [],
   "source": [
    "reviews = Review.from_jsonlines('data/datasets/sentiment/amazon-review-dev.jsonl')"
   ]
  },
  {
   "cell_type": "code",
   "execution_count": null,
   "metadata": {},
   "outputs": [],
   "source": [
    "reviews[0]"
   ]
  },
  {
   "cell_type": "code",
   "execution_count": null,
   "metadata": {},
   "outputs": [],
   "source": [
    "def parse_line(line: str):\n",
    "    entries = line.strip().split()\n",
    "    doc_id = int(entries[0])\n",
    "    example_id = entries[1]\n",
    "    proportions = entries[2:]\n",
    "    topic_dist = {}\n",
    "    for i in range(0, len(proportions), 2):\n",
    "        topic_id = int(proportions[i])\n",
    "        prob = float(proportions[i + 1])\n",
    "        topic_dist[topic_id] = prob\n",
    "    return {\n",
    "        'doc_id': doc_id,\n",
    "        'example_id': example_id,\n",
    "        'topic_dist': topic_dist,\n",
    "        'top_topic_id': int(proportions[0])\n",
    "    }"
   ]
  },
  {
   "cell_type": "code",
   "execution_count": null,
   "metadata": {},
   "outputs": [],
   "source": [
    "results = {}\n",
    "with open('data/topic-model/sentiment/num_topics=10/mallet.topic_distributions') as f:\n",
    "    for line in f:\n",
    "        if line.startswith('#doc'):\n",
    "            continue\n",
    "        parsed = parse_line(line)\n",
    "        if parsed['doc_id'] in results:\n",
    "            raise ValueError()\n",
    "        results[parsed['doc_id']] = parsed"
   ]
  },
  {
   "cell_type": "code",
   "execution_count": null,
   "metadata": {},
   "outputs": [],
   "source": [
    "results"
   ]
  },
  {
   "cell_type": "code",
   "execution_count": null,
   "metadata": {},
   "outputs": [],
   "source": []
  }
 ],
 "metadata": {
  "interpreter": {
   "hash": "fc659d46ecd9ce49432e69c5f2e3a4256d77ae113e7f4330805b3d48a472b022"
  },
  "kernelspec": {
   "display_name": "Python 3.9.7 64-bit ('multidim': conda)",
   "language": "python",
   "name": "python3"
  },
  "language_info": {
   "codemirror_mode": {
    "name": "ipython",
    "version": 3
   },
   "file_extension": ".py",
   "mimetype": "text/x-python",
   "name": "python",
   "nbconvert_exporter": "python",
   "pygments_lexer": "ipython3",
   "version": "3.9.7"
  },
  "orig_nbformat": 4
 },
 "nbformat": 4,
 "nbformat_minor": 2
}
